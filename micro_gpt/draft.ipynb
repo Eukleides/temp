{
 "cells": [
  {
   "cell_type": "code",
   "execution_count": 1,
   "id": "7e26d59b",
   "metadata": {},
   "outputs": [],
   "source": [
    "import torch\n",
    "from gpt import SimpleMultiHeadAttention as SMHA\n",
    "from gpt import LLMConfig as Cfg\n",
    "from utils import set_seed"
   ]
  },
  {
   "cell_type": "code",
   "execution_count": 2,
   "id": "907e18a9",
   "metadata": {},
   "outputs": [],
   "source": [
    "set_seed(0)"
   ]
  },
  {
   "cell_type": "code",
   "execution_count": 3,
   "id": "9360a806",
   "metadata": {},
   "outputs": [],
   "source": [
    "vocab_size=10\n",
    "n_batch = 3\n",
    "n_context = 5\n",
    "n_embed = 6\n",
    "n_heads=3"
   ]
  },
  {
   "cell_type": "code",
   "execution_count": 4,
   "id": "912150ef",
   "metadata": {},
   "outputs": [],
   "source": [
    "cfg = Cfg(\n",
    "    n_vocab=vocab_size,\n",
    "    n_context=n_context,\n",
    "    n_embed=n_embed,\n",
    "    n_heads=n_heads\n",
    "    )"
   ]
  },
  {
   "cell_type": "code",
   "execution_count": 5,
   "id": "b41c52cb",
   "metadata": {},
   "outputs": [],
   "source": [
    "ssa = SMHA(cfg)\n",
    "x = torch.randn((n_batch, n_context, n_embed))"
   ]
  },
  {
   "cell_type": "code",
   "execution_count": 6,
   "id": "b45558ff",
   "metadata": {},
   "outputs": [
    {
     "data": {
      "text/plain": [
       "torch.Size([3, 5, 6])"
      ]
     },
     "execution_count": 6,
     "metadata": {},
     "output_type": "execute_result"
    }
   ],
   "source": [
    "x.shape"
   ]
  },
  {
   "cell_type": "code",
   "execution_count": 7,
   "id": "941da0e7",
   "metadata": {},
   "outputs": [
    {
     "data": {
      "text/plain": [
       "torch.Size([18, 6])"
      ]
     },
     "execution_count": 7,
     "metadata": {},
     "output_type": "execute_result"
    }
   ],
   "source": [
    "ssa.Wqkv.weight.shape"
   ]
  },
  {
   "cell_type": "code",
   "execution_count": 8,
   "id": "beb21ac4",
   "metadata": {},
   "outputs": [
    {
     "data": {
      "text/plain": [
       "tensor([[[-0.8025, -1.2952, -0.7502, -1.3120, -0.2188, -2.4351],\n",
       "         [-0.0729, -0.0340,  0.7969, -0.1848, -0.3701, -1.2103],\n",
       "         [-0.6227, -0.4637,  1.9218, -0.4025,  0.0930, -0.6661],\n",
       "         [ 0.6080, -0.7300, -0.8834, -0.4189, -0.8048,  0.5656],\n",
       "         [ 0.1804,  0.1083, -0.7548,  0.2443, -0.0773,  0.1164]],\n",
       "\n",
       "        [[-0.5940, -1.2439, -0.0250,  1.3694,  2.6570,  0.9851],\n",
       "         [-0.2596,  0.1183,  0.2440,  1.1646,  2.6963,  1.2358],\n",
       "         [ 0.5428,  0.5255,  0.1922, -0.7722, -1.9003,  0.1307],\n",
       "         [-1.6115, -0.4794, -0.1434, -0.3173,  0.9671, -0.9911],\n",
       "         [ 0.3016, -0.1073,  0.8629, -0.0195,  0.9910, -0.7777]],\n",
       "\n",
       "        [[ 0.3140,  0.2133, -0.1201,  0.3605, -2.3217, -1.1964],\n",
       "         [ 0.1970, -1.1773, -0.0661, -0.3584, -1.5616, -0.3546],\n",
       "         [-0.8137,  0.9242, -0.2871,  1.0216, -0.5111, -1.7137],\n",
       "         [-0.5101, -0.4749, -0.6334, -1.4677,  0.6074, -0.5472],\n",
       "         [-1.1005, -0.7201,  0.0119,  0.3398, -0.2635,  1.2805]]])"
      ]
     },
     "execution_count": 8,
     "metadata": {},
     "output_type": "execute_result"
    }
   ],
   "source": [
    "x"
   ]
  },
  {
   "cell_type": "code",
   "execution_count": 9,
   "id": "7ee0d469",
   "metadata": {},
   "outputs": [
    {
     "data": {
      "text/plain": [
       "Parameter containing:\n",
       "tensor([[-0.0031,  0.2190, -0.3360, -0.3004, -0.1572,  0.1095],\n",
       "        [-0.0081,  0.3237, -0.0362,  0.1080, -0.1234, -0.0802],\n",
       "        [-0.3900, -0.2704, -0.1683,  0.0151,  0.1614,  0.2450],\n",
       "        [-0.2768, -0.1778,  0.1483,  0.3390, -0.0840,  0.3055],\n",
       "        [-0.0658,  0.0432,  0.3697, -0.3787, -0.2570, -0.1034],\n",
       "        [-0.1591,  0.3527, -0.2646, -0.1879, -0.2852, -0.3823],\n",
       "        [-0.2383,  0.3509,  0.1822,  0.1979,  0.0215, -0.2093],\n",
       "        [ 0.0691, -0.3812, -0.2950, -0.2105,  0.2576,  0.2394],\n",
       "        [-0.1811, -0.0147,  0.2611,  0.4059,  0.1620,  0.0552],\n",
       "        [ 0.2737, -0.2404,  0.0761, -0.3165, -0.2830, -0.2109],\n",
       "        [ 0.1847,  0.1642, -0.2418,  0.1233,  0.2241, -0.0515],\n",
       "        [ 0.0156,  0.0946,  0.2533,  0.3920, -0.3146, -0.1496],\n",
       "        [ 0.1604,  0.3383,  0.3553,  0.3602,  0.0812, -0.3550],\n",
       "        [ 0.0376, -0.2554, -0.3805,  0.3627,  0.3104, -0.4072],\n",
       "        [ 0.0764, -0.0688, -0.0672, -0.1869,  0.1570, -0.2418],\n",
       "        [ 0.1497,  0.2065,  0.2923,  0.1526, -0.4041, -0.2648],\n",
       "        [ 0.2038,  0.0854, -0.3185, -0.2351,  0.3841,  0.2751],\n",
       "        [-0.1780, -0.1027, -0.3889, -0.0073, -0.3074, -0.3149]],\n",
       "       requires_grad=True)"
      ]
     },
     "execution_count": 9,
     "metadata": {},
     "output_type": "execute_result"
    }
   ],
   "source": [
    "ssa.Wqkv.weight"
   ]
  },
  {
   "cell_type": "code",
   "execution_count": 10,
   "id": "94bbf3d4",
   "metadata": {},
   "outputs": [],
   "source": [
    "q,k,v,qkt = ssa.forward(x)"
   ]
  },
  {
   "cell_type": "code",
   "execution_count": 11,
   "id": "abc590aa",
   "metadata": {},
   "outputs": [
    {
     "data": {
      "text/plain": [
       "torch.Size([3, 3, 5, 2])"
      ]
     },
     "execution_count": 11,
     "metadata": {},
     "output_type": "execute_result"
    }
   ],
   "source": [
    "q.shape"
   ]
  },
  {
   "cell_type": "code",
   "execution_count": 12,
   "id": "334acb60",
   "metadata": {},
   "outputs": [
    {
     "data": {
      "text/plain": [
       "tensor([[[ 0.1329, -0.3049],\n",
       "         [-0.2937,  0.0835],\n",
       "         [-0.7120, -0.2162],\n",
       "         [ 0.4494, -0.2006],\n",
       "         [ 0.2283,  0.0875]],\n",
       "\n",
       "        [[ 0.1378, -0.8292],\n",
       "         [-0.4555, -0.2569],\n",
       "         [-0.1094,  0.1920],\n",
       "         [ 0.1112, -0.0711],\n",
       "         [ 0.0471, -0.0562]],\n",
       "\n",
       "        [[ 0.5243,  1.1094],\n",
       "         [ 0.5881,  0.3918],\n",
       "         [ 0.9288, -0.2692],\n",
       "         [-0.0911, -0.0285],\n",
       "         [-0.3709,  0.1409]]], grad_fn=<SelectBackward0>)"
      ]
     },
     "execution_count": 12,
     "metadata": {},
     "output_type": "execute_result"
    }
   ],
   "source": [
    "q[0]"
   ]
  },
  {
   "cell_type": "code",
   "execution_count": 13,
   "id": "50b0bd29",
   "metadata": {},
   "outputs": [],
   "source": [
    "qkt1 = q @ k.transpose(2,3) "
   ]
  },
  {
   "cell_type": "code",
   "execution_count": 14,
   "id": "42abc4b4",
   "metadata": {},
   "outputs": [
    {
     "data": {
      "text/plain": [
       "torch.Size([3, 3, 5, 5])"
      ]
     },
     "execution_count": 14,
     "metadata": {},
     "output_type": "execute_result"
    }
   ],
   "source": [
    "qkt1.shape"
   ]
  },
  {
   "cell_type": "code",
   "execution_count": 16,
   "id": "0e3a7343",
   "metadata": {},
   "outputs": [
    {
     "data": {
      "text/plain": [
       "tensor([[[-4.5285e-02,  9.0856e-02,  8.1800e-02, -1.1667e-01, -2.5232e-02],\n",
       "         [ 2.8645e-02, -6.2652e-02, -6.4173e-02,  1.1397e-01,  1.9536e-02],\n",
       "         [ 1.8761e-02, -5.3868e-02, -7.2830e-02,  1.7418e-01,  2.1654e-02],\n",
       "         [-5.2632e-02,  1.1288e-01,  1.1256e-01, -1.9210e-01, -3.4355e-02],\n",
       "         [-3.8101e-03,  1.3008e-02,  1.9753e-02, -5.1409e-02, -5.8246e-03]],\n",
       "\n",
       "        [[-3.8834e-01, -1.5706e-01, -8.6763e-02, -2.0829e-01,  3.0842e-02],\n",
       "         [ 2.8895e-02, -5.2738e-02, -1.1562e-01,  5.7330e-02,  3.7681e-02],\n",
       "         [ 1.1314e-01,  3.5732e-02,  6.2804e-03,  6.7191e-02, -2.7645e-03],\n",
       "         [-6.3073e-02, -1.2655e-02,  1.0265e-02, -4.2176e-02, -2.9670e-03],\n",
       "         [-3.7649e-02, -1.0341e-02,  8.4551e-04, -2.3365e-02, -4.1342e-05]],\n",
       "\n",
       "        [[-2.4064e-01,  1.3675e-01,  1.7381e-02, -1.3813e-01,  1.7307e-02],\n",
       "         [-1.2856e-01,  6.3250e-03, -1.0085e-01, -5.7847e-02,  4.5666e-02],\n",
       "         [-5.5787e-02, -1.4318e-01, -2.8460e-01,  9.7630e-03,  9.9457e-02],\n",
       "         [ 1.4568e-02,  4.5711e-03,  2.0156e-02,  5.2919e-03, -8.0610e-03],\n",
       "         [ 1.6744e-02,  6.2937e-02,  1.1837e-01, -7.7003e-03, -4.0747e-02]]],\n",
       "       grad_fn=<SelectBackward0>)"
      ]
     },
     "execution_count": 16,
     "metadata": {},
     "output_type": "execute_result"
    }
   ],
   "source": [
    "qkt[0]"
   ]
  },
  {
   "cell_type": "code",
   "execution_count": null,
   "id": "c934517c",
   "metadata": {},
   "outputs": [],
   "source": []
  }
 ],
 "metadata": {
  "kernelspec": {
   "display_name": "Python 3 (ipykernel)",
   "language": "python",
   "name": "python3"
  },
  "language_info": {
   "codemirror_mode": {
    "name": "ipython",
    "version": 3
   },
   "file_extension": ".py",
   "mimetype": "text/x-python",
   "name": "python",
   "nbconvert_exporter": "python",
   "pygments_lexer": "ipython3",
   "version": "3.9.12"
  }
 },
 "nbformat": 4,
 "nbformat_minor": 5
}
